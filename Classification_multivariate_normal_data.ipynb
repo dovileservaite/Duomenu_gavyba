{
  "nbformat": 4,
  "nbformat_minor": 0,
  "metadata": {
    "colab": {
      "name": "Classification multivariate normal data.ipynb",
      "provenance": [],
      "authorship_tag": "ABX9TyMH5RntsZqKBp72ErTWSnkb",
      "include_colab_link": true
    },
    "kernelspec": {
      "name": "python3",
      "display_name": "Python 3"
    },
    "language_info": {
      "name": "python"
    }
  },
  "cells": [
    {
      "cell_type": "markdown",
      "metadata": {
        "id": "view-in-github",
        "colab_type": "text"
      },
      "source": [
        "<a href=\"https://colab.research.google.com/github/dovileservaite/Duomenu_gavyba/blob/main/Classification_multivariate_normal_data.ipynb\" target=\"_parent\"><img src=\"https://colab.research.google.com/assets/colab-badge.svg\" alt=\"Open In Colab\"/></a>"
      ]
    },
    {
      "cell_type": "markdown",
      "metadata": {
        "id": "9Z7pM-bttC7t"
      },
      "source": [
        "**Regresija**"
      ]
    },
    {
      "cell_type": "code",
      "metadata": {
        "id": "QLty7JXWvi15"
      },
      "source": [
        "import numpy as np\n",
        "import matplotlib.pyplot as plt\n",
        "import pandas as pd"
      ],
      "execution_count": 15,
      "outputs": []
    },
    {
      "cell_type": "code",
      "metadata": {
        "id": "Evk6-c4vtHZI"
      },
      "source": [
        "m1 = np.array([0, 0])\n",
        "m2 = np.array([5, 5])\n",
        "sigma = [[1, 0], [0, 1]]  # diagonal covariance"
      ],
      "execution_count": 2,
      "outputs": []
    },
    {
      "cell_type": "code",
      "metadata": {
        "id": "qsdgtcEWvKZz"
      },
      "source": [
        "#class 1 \n",
        "x1 = np.random.multivariate_normal(m1, sigma, 1000)\n",
        "y1 = np.repeat(0, 1000)\n",
        "#class 2\n",
        "x2 = np.random.multivariate_normal(m2, sigma, 1000)\n",
        "y2 = np.repeat(1, 1000)"
      ],
      "execution_count": 4,
      "outputs": []
    },
    {
      "cell_type": "code",
      "metadata": {
        "id": "M5VRfK4w2cP9"
      },
      "source": [
        "y_class = np.concatenate((y1, y2), axis=None)"
      ],
      "execution_count": 5,
      "outputs": []
    },
    {
      "cell_type": "code",
      "metadata": {
        "colab": {
          "base_uri": "https://localhost:8080/",
          "height": 269
        },
        "id": "31jc-Rdo2e0b",
        "outputId": "ef459ad7-5a27-40ca-d4c2-850f424f7adb"
      },
      "source": [
        "# axis limits\n",
        "xr = np.array([-10,20])\n",
        "\n",
        "yr = np.array([-5,15])\n",
        "\n",
        "import matplotlib.pyplot as plt\n",
        "plt.plot(x1[:,0], x1[:,1], 'b.', x2[:,0], x2[:,1], 'r.', m1[0], m1[1], 'k.', m2[0],m2[1], 'k.')\n",
        "plt.axis(np.concatenate((xr, yr)))\n",
        "plt.show()"
      ],
      "execution_count": 6,
      "outputs": [
        {
          "output_type": "display_data",
          "data": {
            "image/png": "[encoded data removed]",
            "text/plain": [
              "<Figure size 432x288 with 1 Axes>"
            ]
          },
          "metadata": {
            "tags": [],
            "needs_background": "light"
          }
        }
      ]
    },
    {
      "cell_type": "markdown",
      "metadata": {
        "id": "wO2v7b1n2o4-"
      },
      "source": [
        "Compute classifier.\n",
        "\n",
        "Estimate the common covariance matrix"
      ]
    },
    {
      "cell_type": "code",
      "metadata": {
        "colab": {
          "base_uri": "https://localhost:8080/"
        },
        "id": "lK30ZreM2jK0",
        "outputId": "a1c0bd5b-6738-40b5-ee9f-590188bce53a"
      },
      "source": [
        "c1 = np.cov(x1.T)\n",
        "c2 = np.cov(x2.T)\n",
        "\n",
        "c = 0.5 *(c1+c2)\n",
        "print(c)\n",
        "\n",
        "m = m1-m2\n",
        "print(m)"
      ],
      "execution_count": 7,
      "outputs": [
        {
          "output_type": "stream",
          "text": [
            "[[0.97277353 0.05076913]\n",
            " [0.05076913 0.99076436]]\n",
            "[-5 -5]\n"
          ],
          "name": "stdout"
        }
      ]
    },
    {
      "cell_type": "markdown",
      "metadata": {
        "id": "pucp7pj02wjK"
      },
      "source": [
        "Compute LDC weights"
      ]
    },
    {
      "cell_type": "code",
      "metadata": {
        "colab": {
          "base_uri": "https://localhost:8080/"
        },
        "id": "CaSLo5EQ2xKU",
        "outputId": "5ba65d34-0fd5-47ef-b0ce-24eef52b381a"
      },
      "source": [
        "from numpy.linalg import inv\n",
        "w = np.matmul(m.T, inv(c))\n",
        "#lets normalize vector w\n",
        "wn = w/np. linalg. norm(w)\n",
        "print(w,wn)"
      ],
      "execution_count": 8,
      "outputs": [
        {
          "output_type": "stream",
          "text": [
            "[-4.88963611 -4.79605202] [-0.71390559 -0.70024196]\n"
          ],
          "name": "stdout"
        }
      ]
    },
    {
      "cell_type": "markdown",
      "metadata": {
        "id": "iv5JGdf722p6"
      },
      "source": [
        "This is nearest mean classifier. The w equal to m and it is an optimal direction to project. The class points w is a row vector; for dot product it should be multiplied by the column vector. The x1 should be transposed."
      ]
    },
    {
      "cell_type": "markdown",
      "metadata": {
        "id": "cD9lbQff23gW"
      },
      "source": [
        "Lets project the points on the direction wn"
      ]
    },
    {
      "cell_type": "code",
      "metadata": {
        "id": "eYk7-mdc2z69"
      },
      "source": [
        "p1 = np.matmul(wn, x1.T)\n",
        "#print(p1[1])\n",
        "p2 = np.matmul(wn, x2.T)"
      ],
      "execution_count": 9,
      "outputs": []
    },
    {
      "cell_type": "markdown",
      "metadata": {
        "id": "19xNpKvU2_Ce"
      },
      "source": [
        "p1 and p2 are projected class points onto direction m. pot their histogram"
      ]
    },
    {
      "cell_type": "code",
      "metadata": {
        "colab": {
          "base_uri": "https://localhost:8080/",
          "height": 428
        },
        "id": "xh0rJexF28Uj",
        "outputId": "83e904db-c780-461f-a820-18100bcb2cd7"
      },
      "source": [
        "fig, ax = plt.subplots(figsize =(10, 7)) \n",
        "ax.hist(np.concatenate((p1,p2))) \n",
        "plt.show()"
      ],
      "execution_count": 10,
      "outputs": [
        {
          "output_type": "display_data",
          "data": {
            "image/png": "[encoded data removed]",
            "text/plain": [
              "<Figure size 720x504 with 1 Axes>"
            ]
          },
          "metadata": {
            "tags": [],
            "needs_background": "light"
          }
        }
      ]
    },
    {
      "cell_type": "markdown",
      "metadata": {
        "id": "5dKP5uzC3GvL"
      },
      "source": [
        "b in this scenario is a point in the middle of the vector that is connecting m1 and m2 it is (2.5, 2.5). lets project it onto wn and this will be our b"
      ]
    },
    {
      "cell_type": "code",
      "metadata": {
        "colab": {
          "base_uri": "https://localhost:8080/"
        },
        "id": "oKIu6xVF3DBl",
        "outputId": "44eba40d-afdb-4b45-d73e-46df26f4c0dd"
      },
      "source": [
        "b= np.matmul(wn, [2.5,2.5])\n",
        "print(b)"
      ],
      "execution_count": 11,
      "outputs": [
        {
          "output_type": "stream",
          "text": [
            "-3.53536888553324\n"
          ],
          "name": "stdout"
        }
      ]
    },
    {
      "cell_type": "markdown",
      "metadata": {
        "id": "cOtcCs-E3NWs"
      },
      "source": [
        "classification rule is compute z=wn%*%x-b compare it with threshold T, if z< 0 then class 1 otherwise class2"
      ]
    },
    {
      "cell_type": "code",
      "metadata": {
        "colab": {
          "base_uri": "https://localhost:8080/",
          "height": 483
        },
        "id": "8g4Y2mis3Kk0",
        "outputId": "69175d6e-2a81-4b47-e6bc-563a3ada63c2"
      },
      "source": [
        "p1_1 = [i - b for i in np.matmul(wn, x1.T)]\n",
        "p2_1 = np.matmul(wn, x2.T)-b\n",
        "\n",
        "print(p1[1:10],p1_1[1:10])\n",
        "\n",
        "fig, ax = plt.subplots(figsize =(10, 7)) \n",
        "ax.hist(np.concatenate((p1_1,p2_1))) \n",
        "plt.show() \n",
        "\n",
        "p = np.concatenate((p1_1, p2_1))"
      ],
      "execution_count": 12,
      "outputs": [
        {
          "output_type": "stream",
          "text": [
            "[-0.51833057 -0.13226378 -0.50323588  0.75339504  1.03662909  0.25357343\n",
            " -1.56377922  1.19807026  0.65331805] [3.017038311133306, 3.403105105112039, 3.032133002671019, 4.288763925646107, 4.571997974658773, 3.7889423131668636, 1.9715896620927165, 4.733439141434855, 4.1886869348977855]\n"
          ],
          "name": "stdout"
        },
        {
          "output_type": "display_data",
          "data": {
            "image/png": "[encoded data removed]",
            "text/plain": [
              "<Figure size 720x504 with 1 Axes>"
            ]
          },
          "metadata": {
            "tags": [],
            "needs_background": "light"
          }
        }
      ]
    },
    {
      "cell_type": "markdown",
      "metadata": {
        "id": "7Os2T35g3Q-j"
      },
      "source": [
        "This is artificially created to show meaning of confuson table and ROC Classification by applying threshold if w%*%x > T then class1 , if < T then class2 T range"
      ]
    },
    {
      "cell_type": "code",
      "metadata": {
        "colab": {
          "base_uri": "https://localhost:8080/"
        },
        "id": "h0lxXdp73TcL",
        "outputId": "3cfbbf10-2f53-46aa-de8e-1dc3f9563ebc"
      },
      "source": [
        "p= np.concatenate((p1,p2))\n",
        "\n",
        "N= len(y_class)\n",
        "print(N)\n",
        "\n",
        "Tr = np.linspace(start=-20, stop=20, num=41)\n",
        "print(Tr)\n",
        "\n",
        "#TPR  = np.repeat(0, len(Tr))\n",
        "#FPR  = np.repeat(0, len(Tr))"
      ],
      "execution_count": 13,
      "outputs": [
        {
          "output_type": "stream",
          "text": [
            "2000\n",
            "[-20. -19. -18. -17. -16. -15. -14. -13. -12. -11. -10.  -9.  -8.  -7.\n",
            "  -6.  -5.  -4.  -3.  -2.  -1.   0.   1.   2.   3.   4.   5.   6.   7.\n",
            "   8.   9.  10.  11.  12.  13.  14.  15.  16.  17.  18.  19.  20.]\n"
          ],
          "name": "stdout"
        }
      ]
    },
    {
      "cell_type": "code",
      "metadata": {
        "colab": {
          "base_uri": "https://localhost:8080/"
        },
        "id": "J02gxD6o3Yt8",
        "outputId": "48ba138f-d020-4b37-ff30-5fe79812efd5"
      },
      "source": [
        "from collections import Counter\n",
        "import collections\n",
        "TPR = []\n",
        "FPR = []\n",
        "i=0\n",
        "for T in Tr:\n",
        "  r = pd.Series(1*(p<T), dtype=\"category\")\n",
        "  r = r.cat.set_categories([0,1])\n",
        "  t = pd.crosstab(y_class, r, rownames=['y_class'], colnames=['rf'],dropna=False)\n",
        "  print(t)\n",
        "  # True positives and True Negatives\n",
        "  # in other words correct classifications\n",
        "  # are on diagonal of the confusion table\n",
        "  correctc=sum(np.diag(t))\n",
        "  print(correctc)\n",
        "  # false classifications are \n",
        "  # off diagonal\n",
        "  falsec=t[0][1]+t[1][0]\n",
        "  print(falsec)\n",
        "  # We want a choice of threshold \n",
        "  # to maximize correctc and minimize falsec RATE\n",
        "  tpr=correctc/N\n",
        "  fpr=falsec/N\n",
        "  TPR.append(tpr)\n",
        "  FPR.append(fpr)"
      ],
      "execution_count": 17,
      "outputs": [
        {
          "output_type": "stream",
          "text": [
            "rf          0  1\n",
            "y_class         \n",
            "0        1000  0\n",
            "1        1000  0\n",
            "1000\n",
            "1000\n",
            "rf          0  1\n",
            "y_class         \n",
            "0        1000  0\n",
            "1        1000  0\n",
            "1000\n",
            "1000\n",
            "rf          0  1\n",
            "y_class         \n",
            "0        1000  0\n",
            "1        1000  0\n",
            "1000\n",
            "1000\n",
            "rf          0  1\n",
            "y_class         \n",
            "0        1000  0\n",
            "1        1000  0\n",
            "1000\n",
            "1000\n",
            "rf          0  1\n",
            "y_class         \n",
            "0        1000  0\n",
            "1        1000  0\n",
            "1000\n",
            "1000\n",
            "rf          0  1\n",
            "y_class         \n",
            "0        1000  0\n",
            "1        1000  0\n",
            "1000\n",
            "1000\n",
            "rf          0  1\n",
            "y_class         \n",
            "0        1000  0\n",
            "1        1000  0\n",
            "1000\n",
            "1000\n",
            "rf          0  1\n",
            "y_class         \n",
            "0        1000  0\n",
            "1        1000  0\n",
            "1000\n",
            "1000\n",
            "rf          0  1\n",
            "y_class         \n",
            "0        1000  0\n",
            "1        1000  0\n",
            "1000\n",
            "1000\n",
            "rf          0  1\n",
            "y_class         \n",
            "0        1000  0\n",
            "1        1000  0\n",
            "1000\n",
            "1000\n",
            "rf          0  1\n",
            "y_class         \n",
            "0        1000  0\n",
            "1         998  2\n",
            "1002\n",
            "998\n",
            "rf          0   1\n",
            "y_class          \n",
            "0        1000   0\n",
            "1         976  24\n",
            "1024\n",
            "976\n",
            "rf          0    1\n",
            "y_class           \n",
            "0        1000    0\n",
            "1         831  169\n",
            "1169\n",
            "831\n",
            "rf          0    1\n",
            "y_class           \n",
            "0        1000    0\n",
            "1         461  539\n",
            "1539\n",
            "461\n",
            "rf          0    1\n",
            "y_class           \n",
            "0        1000    0\n",
            "1         148  852\n",
            "1852\n",
            "148\n",
            "rf          0    1\n",
            "y_class           \n",
            "0        1000    0\n",
            "1          17  983\n",
            "1983\n",
            "17\n",
            "rf          0    1\n",
            "y_class           \n",
            "0        1000    0\n",
            "1           4  996\n",
            "1996\n",
            "4\n",
            "rf          0     1\n",
            "y_class            \n",
            "0        1000     0\n",
            "1           0  1000\n",
            "2000\n",
            "0\n",
            "rf         0     1\n",
            "y_class           \n",
            "0        982    18\n",
            "1          0  1000\n",
            "1982\n",
            "18\n",
            "rf         0     1\n",
            "y_class           \n",
            "0        815   185\n",
            "1          0  1000\n",
            "1815\n",
            "185\n",
            "rf         0     1\n",
            "y_class           \n",
            "0        518   482\n",
            "1          0  1000\n",
            "1518\n",
            "482\n",
            "rf         0     1\n",
            "y_class           \n",
            "0        158   842\n",
            "1          0  1000\n",
            "1158\n",
            "842\n",
            "rf        0     1\n",
            "y_class          \n",
            "0        28   972\n",
            "1         0  1000\n",
            "1028\n",
            "972\n",
            "rf       0     1\n",
            "y_class         \n",
            "0        2   998\n",
            "1        0  1000\n",
            "1002\n",
            "998\n",
            "rf       0     1\n",
            "y_class         \n",
            "0        0  1000\n",
            "1        0  1000\n",
            "1000\n",
            "1000\n",
            "rf       0     1\n",
            "y_class         \n",
            "0        0  1000\n",
            "1        0  1000\n",
            "1000\n",
            "1000\n",
            "rf       0     1\n",
            "y_class         \n",
            "0        0  1000\n",
            "1        0  1000\n",
            "1000\n",
            "1000\n",
            "rf       0     1\n",
            "y_class         \n",
            "0        0  1000\n",
            "1        0  1000\n",
            "1000\n",
            "1000\n",
            "rf       0     1\n",
            "y_class         \n",
            "0        0  1000\n",
            "1        0  1000\n",
            "1000\n",
            "1000\n",
            "rf       0     1\n",
            "y_class         \n",
            "0        0  1000\n",
            "1        0  1000\n",
            "1000\n",
            "1000\n",
            "rf       0     1\n",
            "y_class         \n",
            "0        0  1000\n",
            "1        0  1000\n",
            "1000\n",
            "1000\n",
            "rf       0     1\n",
            "y_class         \n",
            "0        0  1000\n",
            "1        0  1000\n",
            "1000\n",
            "1000\n",
            "rf       0     1\n",
            "y_class         \n",
            "0        0  1000\n",
            "1        0  1000\n",
            "1000\n",
            "1000\n",
            "rf       0     1\n",
            "y_class         \n",
            "0        0  1000\n",
            "1        0  1000\n",
            "1000\n",
            "1000\n",
            "rf       0     1\n",
            "y_class         \n",
            "0        0  1000\n",
            "1        0  1000\n",
            "1000\n",
            "1000\n",
            "rf       0     1\n",
            "y_class         \n",
            "0        0  1000\n",
            "1        0  1000\n",
            "1000\n",
            "1000\n",
            "rf       0     1\n",
            "y_class         \n",
            "0        0  1000\n",
            "1        0  1000\n",
            "1000\n",
            "1000\n",
            "rf       0     1\n",
            "y_class         \n",
            "0        0  1000\n",
            "1        0  1000\n",
            "1000\n",
            "1000\n",
            "rf       0     1\n",
            "y_class         \n",
            "0        0  1000\n",
            "1        0  1000\n",
            "1000\n",
            "1000\n",
            "rf       0     1\n",
            "y_class         \n",
            "0        0  1000\n",
            "1        0  1000\n",
            "1000\n",
            "1000\n",
            "rf       0     1\n",
            "y_class         \n",
            "0        0  1000\n",
            "1        0  1000\n",
            "1000\n",
            "1000\n"
          ],
          "name": "stdout"
        }
      ]
    },
    {
      "cell_type": "code",
      "metadata": {
        "colab": {
          "base_uri": "https://localhost:8080/",
          "height": 273
        },
        "id": "zIP0X7TD3rDs",
        "outputId": "8b54433d-941f-4a11-97c1-9c415665455c"
      },
      "source": [
        "fig, ax = plt.subplots()\n",
        "ax.scatter(FPR, TPR)\n",
        "ax.set(xlim=(0, 1), ylim=(0, 1))\n",
        "\n",
        "for i, txt in enumerate(Tr):\n",
        "    ax.annotate(txt, (FPR[i], TPR[i]))"
      ],
      "execution_count": 18,
      "outputs": [
        {
          "output_type": "display_data",
          "data": {
            "image/png": "[encoded data removed]",
            "text/plain": [
              "<Figure size 432x288 with 1 Axes>"
            ]
          },
          "metadata": {
            "tags": [],
            "needs_background": "light"
          }
        }
      ]
    },
    {
      "cell_type": "markdown",
      "metadata": {
        "id": "1OSzBjCO3yN4"
      },
      "source": [
        "# LETS make data nonseparable\n",
        "Linearly separable case with common covariance matrix"
      ]
    },
    {
      "cell_type": "code",
      "metadata": {
        "colab": {
          "base_uri": "https://localhost:8080/",
          "height": 269
        },
        "id": "lSeh6txX3u9K",
        "outputId": "c72441eb-c33f-48cf-adac-64ed141db0fe"
      },
      "source": [
        "m1 = np.array([0, 0])\n",
        "m2 = np.array([10, 10])\n",
        "sigma = [[10, 3], [3, 2]] \n",
        "\n",
        "x1 = np.random.multivariate_normal(m1, sigma, 1000)\n",
        "y1 = np.repeat(0, 1000)\n",
        "\n",
        "x2 = np.random.multivariate_normal(m2, sigma, 1000)\n",
        "y2 = np.repeat(1, 1000)\n",
        "\n",
        "xr = np.array([-10,20])\n",
        "\n",
        "yr = np.array([-5,15])\n",
        "\n",
        "import matplotlib.pyplot as plt\n",
        "plt.plot(x1[:,0], x1[:,1], 'b.', x2[:,0], x2[:,1], 'r.', m1[0], m1[1], 'k.', m2[0],m2[1], 'k.')\n",
        "plt.axis(np.concatenate((xr, yr)))\n",
        "plt.show()"
      ],
      "execution_count": 19,
      "outputs": [
        {
          "output_type": "display_data",
          "data": {
            "image/png": "[encoded data removed]",
            "text/plain": [
              "<Figure size 432x288 with 1 Axes>"
            ]
          },
          "metadata": {
            "tags": [],
            "needs_background": "light"
          }
        }
      ]
    },
    {
      "cell_type": "code",
      "metadata": {
        "colab": {
          "base_uri": "https://localhost:8080/"
        },
        "id": "V6Wetn-836x8",
        "outputId": "6e623b96-75a0-40b4-ed94-fcc1a22c5937"
      },
      "source": [
        "c1 = np.cov(x1.T)\n",
        "c2 = np.cov(x2.T)\n",
        "\n",
        "c = 0.5 *(c1+c2)\n",
        "print(c)\n",
        "\n",
        "m = m1-m2\n",
        "print(m)"
      ],
      "execution_count": 20,
      "outputs": [
        {
          "output_type": "stream",
          "text": [
            "[[10.03204981  3.0390389 ]\n",
            " [ 3.0390389   2.06415803]]\n",
            "[-10 -10]\n"
          ],
          "name": "stdout"
        }
      ]
    },
    {
      "cell_type": "code",
      "metadata": {
        "id": "RxyHpl3739Qb"
      },
      "source": [
        "w = np.matmul(m.T, inv(c))\n",
        "wn = w/np. linalg. norm(w)"
      ],
      "execution_count": 21,
      "outputs": []
    },
    {
      "cell_type": "code",
      "metadata": {
        "colab": {
          "base_uri": "https://localhost:8080/"
        },
        "id": "R8J0TjVh4A2G",
        "outputId": "85b6d832-26af-42e4-d067-7ce5f319b6f9"
      },
      "source": [
        "wn"
      ],
      "execution_count": 22,
      "outputs": [
        {
          "output_type": "execute_result",
          "data": {
            "text/plain": [
              "array([ 0.13807265, -0.9904221 ])"
            ]
          },
          "metadata": {
            "tags": []
          },
          "execution_count": 22
        }
      ]
    }
  ]
}